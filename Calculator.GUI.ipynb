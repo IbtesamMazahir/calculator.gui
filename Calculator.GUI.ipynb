{
 "cells": [
  {
   "cell_type": "code",
   "execution_count": 4,
   "id": "8f005466",
   "metadata": {},
   "outputs": [],
   "source": [
    "import tkinter\n",
    "from tkinter import *\n",
    "\n",
    "cal = Tk()\n",
    "cal.title(\"Calculator\")\n",
    "operator = \"\"\n",
    "text_input = StringVar()\n",
    "\n",
    "def btnClick(numbers):\n",
    "    global operator\n",
    "    operator = operator + str(numbers)\n",
    "    text_input.set(operator)\n",
    "    \n",
    "def btnClearDisplay():\n",
    "    global operator\n",
    "    operator = \"\"\n",
    "    text_input.set(\"\")\n",
    "    \n",
    "def btnEqualsInput():\n",
    "    global operator\n",
    "    ans = str(eval(operator))\n",
    "    text_input.set(ans)\n",
    "\n",
    "txtDisplay = Entry(cal, font=('verdana',20, 'bold'), textvariable=text_input, bd=30, insertwidth =4, bg = \"red\", \n",
    "                   justify = \"right\").grid(columnspan = 4)\n",
    "\n",
    "btn0 = Button (cal, padx = 16, bd =8,bg=\"blue\", fg= \"red\", font=('verdana',20, 'bold'), text = \"0\", command = lambda:btnClick(0)).grid(row=4, column=1)\n",
    "btn1=Button(cal,padx=16,bd=8,bg=\"blue\",fg=\"red\",font=('verdana',20,'bold'),text=\"1\",command=lambda:btnClick(1)).grid(row= 3,column=0) \n",
    "btn2=Button(cal,padx=16,bd=8,bg=\"blue\",fg=\"red\",font=('verdana',20,'bold'),text=\"2\",command=lambda:btnClick(2)).grid(row= 3,column=1) \n",
    "btn3=Button(cal,padx=16,bd=8,bg=\"blue\",fg=\"red\",font=('verdana',20,'bold'),text=\"3\",command=lambda:btnClick(3)).grid(row= 3,column=2) \n",
    "btn4=Button(cal,padx=16,bd=8,bg=\"blue\",fg=\"red\",font=('verdana',20,'bold'),text=\"4\",command=lambda:btnClick(4)).grid(row= 2,column=0) \n",
    "btn5 = Button (cal, padx = 16, bd =8,bg=\"blue\", fg= \"red\", font=('arial',20, 'bold'), text = \"5\", command = lambda:btnClick(5)).grid(row=2, column=1)\n",
    "btn6=Button(cal,padx=16,bd=8,bg=\"blue\",fg=\"red\",font=('verdana',20,'bold'),text=\"6\",command=lambda:btnClick(6)).grid(row= 2,column=2) \n",
    "btn7=Button(cal,padx=16,bd=8,bg=\"blue\",fg=\"red\",font=('verdana',20,'bold'),text=\"7\",command=lambda:btnClick(7)).grid(row= 1,column=0) \n",
    "btn8=Button(cal,padx=16,bd=8,bg=\"blue\",fg=\"red\",font=('verdana',20,'bold'),text=\"8\",command=lambda:btnClick(8)).grid(row= 1,column=1) \n",
    "btn9=Button(cal,padx=16,bd=8,bg=\"blue\",fg=\"red\",font=('verdana',20,'bold'),text=\"9\",command=lambda:btnClick(9)).grid(row= 1,column=2) \n",
    "\n",
    "\n",
    "addition=Button(cal,padx=16,bd=8,bg=\"blue\",fg=\"red\",font=('verdana',20,'bold'),text=\"+\",command=lambda:btnClick(\"+\")).grid (row=1,column=3)\n",
    "subtraction=Button(cal,padx=16,bd=8,bg=\"blue\",fg=\"red\",font=('verdana',20,'bold'),text=\"-\",command=lambda:btnClick(\"-\")).grid(row=2,column=3) \n",
    "multiplication=Button(cal,padx=16,bd=8,bg=\"blue\",fg=\"red\",font=('verdana',20,'bold'),text=\"*\",command=lambda:btnClick(\"*\") ).grid(row=3,column=3) \n",
    "Division=Button(cal,padx=16,bd=8,bg=\"blue\",fg=\"red\",font=('verdana',20,'bold'),text=\"/\",command=lambda:btnClick(\"/\")).grid( row=4,column=3) \n",
    "\n",
    "Equal= Button (cal, padx = 16, bd =8,bg=\"blue\", fg= \"red\", font=('verdana',20, 'bold'), text = \"=\", command = btnEqualsInput).grid(row=4, column=2)\n",
    "\n",
    "Division=Button(cal,padx=16,bd=8,bg=\"blue\",fg=\"red\",font=('verdana',20,'bold'),text=\"/\",command=lambda:btnClick(\"/\")).grid( row=4,column=3) \n",
    "\n",
    "Clear = Button (cal, padx = 16, bd =8,bg=\"blue\", fg= \"red\", font=('verdana',20, 'bold'), text = \"C\", command = btnClearDisplay).grid(row=4, column=0)\n",
    "\n",
    "\n",
    "\n",
    "cal.mainloop()"
   ]
  },
  {
   "cell_type": "markdown",
   "id": "eae06d19",
   "metadata": {},
   "source": []
  }
 ],
 "metadata": {
  "kernelspec": {
   "display_name": "Python 3 (ipykernel)",
   "language": "python",
   "name": "python3"
  },
  "language_info": {
   "codemirror_mode": {
    "name": "ipython",
    "version": 3
   },
   "file_extension": ".py",
   "mimetype": "text/x-python",
   "name": "python",
   "nbconvert_exporter": "python",
   "pygments_lexer": "ipython3",
   "version": "3.8.7"
  }
 },
 "nbformat": 4,
 "nbformat_minor": 5
}
